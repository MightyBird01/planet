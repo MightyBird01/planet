{
 "cells": [
  {
   "cell_type": "code",
   "execution_count": 1,
   "metadata": {
    "collapsed": false,
    "deletable": true,
    "editable": true
   },
   "outputs": [
    {
     "name": "stderr",
     "output_type": "stream",
     "text": [
      "/usr/lib64/python2.7/dist-packages/sklearn/cross_validation.py:44: DeprecationWarning: This module was deprecated in version 0.18 in favor of the model_selection module into which all the refactored classes and functions are moved. Also note that the interface of the new CV iterators are different from that of this module. This module will be removed in 0.20.\n",
      "  \"This module will be removed in 0.20.\", DeprecationWarning)\n",
      "Using Theano backend.\n",
      "WARNING (theano.sandbox.cuda): The cuda backend is deprecated and will be removed in the next release (v0.10).  Please switch to the gpuarray backend. You can get more information about how to switch at this URL:\n",
      " https://github.com/Theano/Theano/wiki/Converting-to-the-new-gpu-back-end%28gpuarray%29\n",
      "\n",
      "Using gpu device 0: Tesla K80 (CNMeM is disabled, cuDNN 5103)\n"
     ]
    }
   ],
   "source": [
    "import numpy as np\n",
    "np.random.seed(1984)\n",
    "\n",
    "import os\n",
    "import glob\n",
    "import cv2\n",
    "import datetime\n",
    "import pandas as pd\n",
    "import time\n",
    "import warnings\n",
    "warnings.filterwarnings(\"ignore\")\n",
    "\n",
    "from sklearn.cross_validation import KFold\n",
    "from keras.models import Sequential\n",
    "from keras.layers.core import Dense, Dropout, Flatten\n",
    "from keras.layers.convolutional import Convolution2D, MaxPooling2D, ZeroPadding2D, AveragePooling2D\n",
    "from keras.optimizers import SGD, Adagrad\n",
    "from keras.callbacks import EarlyStopping\n",
    "from keras.utils import np_utils\n",
    "from keras.constraints import maxnorm\n",
    "from sklearn.metrics import log_loss\n",
    "from keras import __version__ as keras_version\n",
    "from collections import Counter\n",
    "\n",
    "import keras as k\n",
    "from keras.models import Sequential\n",
    "from keras.layers import Dense, Dropout, Flatten\n",
    "from keras.layers import Conv2D, MaxPooling2D"
   ]
  },
  {
   "cell_type": "code",
   "execution_count": 3,
   "metadata": {
    "collapsed": true,
    "deletable": true,
    "editable": true
   },
   "outputs": [],
   "source": [
    "path1 = '/home/gs/DataScientist/planet'\n",
    "trainPath = '/train-jpg'\n",
    "testPath = '/test-jpg'\n",
    "\n",
    "PIC_SIZE = 32\n",
    "\n"
   ]
  },
  {
   "cell_type": "code",
   "execution_count": 4,
   "metadata": {
    "collapsed": false,
    "deletable": true,
    "editable": true
   },
   "outputs": [
    {
     "name": "stdout",
     "output_type": "stream",
     "text": [
      "  image_name                                       tags\n",
      "0    train_0                               haze primary\n",
      "1    train_1            agriculture clear primary water\n",
      "2    train_2                              clear primary\n",
      "3    train_3                              clear primary\n",
      "4    train_4  agriculture clear habitation primary road\n",
      "{'selective_logging': 16, 'cultivation': 8, 'clear': 1, 'habitation': 11, 'conventional_mine': 5, 'cloudy': 4, 'primary': 3, 'water': 6, 'haze': 7, 'slash_burn': 0, 'partly_cloudy': 9, 'artisinal_mine': 10, 'blooming': 2, 'bare_ground': 12, 'blow_down': 13, 'agriculture': 14, 'road': 15}\n",
      "\n",
      "{0: 'slash_burn', 1: 'clear', 2: 'blooming', 3: 'primary', 4: 'cloudy', 5: 'conventional_mine', 6: 'water', 7: 'haze', 8: 'cultivation', 9: 'partly_cloudy', 10: 'artisinal_mine', 11: 'habitation', 12: 'bare_ground', 13: 'blow_down', 14: 'agriculture', 15: 'road', 16: 'selective_logging'}\n",
      "[ 0.  0.  0.  1.  0.  0.  0.  1.  0.  0.  0.  0.  0.  0.  0.  0.  0.]\n",
      "[ 0.  1.  0.  1.  0.  0.  1.  0.  0.  0.  0.  0.  0.  0.  1.  0.  0.]\n",
      "[ 0.  1.  0.  1.  0.  0.  0.  0.  0.  0.  0.  0.  0.  0.  0.  0.  0.]\n"
     ]
    }
   ],
   "source": [
    "# read Y_train\n",
    "\n",
    "try:\n",
    "    Y_train = pd.read_csv(path1+'/train.csv')\n",
    "except:\n",
    "    path1 = '/home/ec2-user/DataScientist/planet'\n",
    "    Y_train = pd.read_csv(path1+'/train.csv')\n",
    "\n",
    "print (Y_train[0:5])\n",
    "\n",
    "flatten = lambda l: [item for sublist in l for item in sublist]\n",
    "labels = list(set(flatten([l.split(' ') for l in Y_train['tags'].values])))\n",
    "label_map = {l: i for i, l in enumerate(labels)}\n",
    "inv_label_map = {i: l for l, i in label_map.items()}\n",
    "print(label_map)\n",
    "print\n",
    "print(inv_label_map)\n",
    "\n",
    "Y_trainDict = {}\n",
    "for i, row in Y_train.iterrows():\n",
    "    name = row['image_name']\n",
    "    tags = row['tags']\n",
    "    targets = np.zeros(17)\n",
    "    for t in tags.split(' '):\n",
    "        targets[label_map[t]] = 1 \n",
    "    Y_trainDict[name] = targets\n",
    "\n",
    "print (Y_trainDict['train_0'])\n",
    "print (Y_trainDict['train_1'])\n",
    "print (Y_trainDict['train_2'])\n"
   ]
  },
  {
   "cell_type": "code",
   "execution_count": null,
   "metadata": {
    "collapsed": true,
    "deletable": true,
    "editable": true
   },
   "outputs": [],
   "source": []
  },
  {
   "cell_type": "code",
   "execution_count": null,
   "metadata": {
    "collapsed": true,
    "deletable": true,
    "editable": true
   },
   "outputs": [],
   "source": []
  },
  {
   "cell_type": "code",
   "execution_count": null,
   "metadata": {
    "collapsed": true,
    "deletable": true,
    "editable": true
   },
   "outputs": [],
   "source": []
  },
  {
   "cell_type": "code",
   "execution_count": 5,
   "metadata": {
    "collapsed": true,
    "deletable": true,
    "editable": true
   },
   "outputs": [],
   "source": [
    "def get_im_cv2(path):\n",
    "    img = cv2.imread(path)\n",
    "    resized = cv2.resize(img, (PIC_SIZE, PIC_SIZE), cv2.INTER_LINEAR)\n",
    "    return resized\n",
    "\n",
    "def load_train():\n",
    "    X_train = []\n",
    "    Y_train = []\n",
    "    X_train_id = []\n",
    "    start_time = time.time()\n",
    "\n",
    "    print('Read train images')\n",
    "    path = os.path.join(path1+trainPath, '*.jpg')\n",
    "    print (path)\n",
    "    files = glob.glob(path)\n",
    "    for fl in files:\n",
    "        flbase = os.path.basename(fl)\n",
    "        img = get_im_cv2(fl)\n",
    "        X_train.append(img)\n",
    "        name = flbase.replace('.jpg', '')\n",
    "        X_train_id.append(name)\n",
    "        Y_train.append(Y_trainDict[name])\n",
    "\n",
    "    print('Read train data time: {} seconds'.format(round(time.time() - start_time, 2)))\n",
    "    return X_train,X_train_id, Y_train\n",
    "\n",
    "def load_test():\n",
    "    X_test = []\n",
    "    X_test_id = []\n",
    "    start_time = time.time()\n",
    "\n",
    "    print('Read test images')\n",
    "    path = os.path.join(path1+testPath, '*.jpg')\n",
    "    print (path)\n",
    "    files = glob.glob(path)\n",
    "    for fl in files:\n",
    "        flbase = os.path.basename(fl)\n",
    "        img = get_im_cv2(fl)\n",
    "        X_test.append(img)\n",
    "        name = flbase.replace('.jpg', '')\n",
    "        X_test_id.append(name)\n",
    "\n",
    "    print('Read test data time: {} seconds'.format(round(time.time() - start_time, 2)))\n",
    "    return X_test, X_test_id\n",
    "\n",
    "def mapf (arr):\n",
    "    res = ''\n",
    "    for i in range(0,17):\n",
    "        if arr[i] > 0.5:\n",
    "            res += inv_label_map[i] + ' '\n",
    "    res = res.rstrip()\n",
    "    return res\n",
    " "
   ]
  },
  {
   "cell_type": "code",
   "execution_count": 6,
   "metadata": {
    "collapsed": false,
    "deletable": true,
    "editable": true
   },
   "outputs": [
    {
     "name": "stdout",
     "output_type": "stream",
     "text": [
      "Read train images\n",
      "/home/ec2-user/DataScientist/planet/train-jpg/*.jpg\n",
      "Read train data time: 42.49 seconds\n",
      "(40479, 40479)\n",
      "['train_235', 'train_8857', 'train_40321', 'train_16924', 'train_13411']\n",
      "(128, 128, 3)\n",
      "[ 0.  1.  0.  1.  0.  0.  0.  0.  0.  0.  0.  0.  0.  0.  0.  0.  0.]\n",
      "[ 0.  1.  0.  1.  0.  0.  0.  0.  0.  0.  0.  0.  0.  0.  0.  0.  0.]\n",
      "Read test images\n",
      "/home/ec2-user/DataScientist/planet/test-jpg/*.jpg\n",
      "Read test data time: 42.52 seconds\n",
      "(40669, 40669)\n",
      "['test_2265', 'test_10037', 'test_37861', 'test_4787', 'test_29331']\n",
      "(128, 128, 3)\n"
     ]
    }
   ],
   "source": [
    "X_train, X_train_id, Y_train = load_train()\n",
    "print (len(X_train), len(X_train_id))\n",
    "print(X_train_id[0:5])\n",
    "print(X_train[0].shape)\n",
    "print(Y_train[0])\n",
    "print(Y_train[1])\n",
    "\n",
    "X_test, X_test_id = load_test()\n",
    "print (len(X_test), len(X_test_id))\n",
    "print(X_test_id[0:5])\n",
    "print(X_test[0].shape)\n"
   ]
  },
  {
   "cell_type": "code",
   "execution_count": null,
   "metadata": {
    "collapsed": false,
    "deletable": true,
    "editable": true
   },
   "outputs": [],
   "source": []
  },
  {
   "cell_type": "code",
   "execution_count": 7,
   "metadata": {
    "collapsed": false,
    "deletable": true,
    "editable": true
   },
   "outputs": [
    {
     "name": "stdout",
     "output_type": "stream",
     "text": [
      "(40479, 128, 128, 3)\n",
      "(40479, 17)\n"
     ]
    }
   ],
   "source": [
    "Y_train = np.array(Y_train, np.uint8)\n",
    "X_train = np.array(X_train, np.float16) / 255.\n",
    "\n",
    "print(X_train.shape)\n",
    "print(Y_train.shape)"
   ]
  },
  {
   "cell_type": "code",
   "execution_count": null,
   "metadata": {
    "collapsed": true,
    "deletable": true,
    "editable": true
   },
   "outputs": [],
   "source": []
  },
  {
   "cell_type": "code",
   "execution_count": 9,
   "metadata": {
    "collapsed": false,
    "deletable": true,
    "editable": true
   },
   "outputs": [
    {
     "name": "stdout",
     "output_type": "stream",
     "text": [
      "Train on 35000 samples, validate on 5479 samples\n",
      "Epoch 1/10\n",
      "35000/35000 [==============================] - 460s - loss: 0.2601 - acc: 0.9027 - val_loss: 0.2121 - val_acc: 0.9168\n",
      "Epoch 2/10\n",
      "35000/35000 [==============================] - 460s - loss: 0.2170 - acc: 0.9162 - val_loss: 0.1932 - val_acc: 0.9224\n",
      "Epoch 3/10\n",
      "35000/35000 [==============================] - 461s - loss: 0.2041 - acc: 0.9198 - val_loss: 0.1844 - val_acc: 0.9241\n",
      "Epoch 4/10\n",
      "35000/35000 [==============================] - 461s - loss: 0.1955 - acc: 0.9226 - val_loss: 0.1790 - val_acc: 0.9280\n",
      "Epoch 5/10\n",
      "35000/35000 [==============================] - 460s - loss: 0.1887 - acc: 0.9258 - val_loss: 0.1761 - val_acc: 0.9302\n",
      "Epoch 6/10\n",
      "35000/35000 [==============================] - 460s - loss: 0.1831 - acc: 0.9280 - val_loss: 0.1708 - val_acc: 0.9333\n",
      "Epoch 7/10\n",
      "35000/35000 [==============================] - 460s - loss: 0.1764 - acc: 0.9306 - val_loss: 0.1657 - val_acc: 0.9341\n",
      "Epoch 8/10\n",
      "35000/35000 [==============================] - 461s - loss: 0.1705 - acc: 0.9325 - val_loss: 0.1638 - val_acc: 0.9356\n",
      "Epoch 9/10\n",
      "35000/35000 [==============================] - 461s - loss: 0.1666 - acc: 0.9344 - val_loss: 0.1602 - val_acc: 0.9363\n",
      "Epoch 10/10\n",
      "35000/35000 [==============================] - 460s - loss: 0.1614 - acc: 0.9358 - val_loss: 0.1648 - val_acc: 0.9361\n",
      "0.307892938125\n"
     ]
    }
   ],
   "source": [
    "split = 35000\n",
    "x_train, x_valid, y_train, y_valid = X_train[:split], X_train[split:], Y_train[:split], Y_train[split:]\n",
    "\n",
    "model = Sequential()\n",
    "model.add(Conv2D(32, kernel_size=(3, 3),\n",
    "                 activation='relu',\n",
    "                 input_shape=(PIC_SIZE, PIC_SIZE, 3)))\n",
    "\n",
    "model.add(Conv2D(32, (3, 3), activation='relu'))\n",
    "model.add(MaxPooling2D(pool_size=(2, 2)))\n",
    "model.add(Dropout(0.25))\n",
    "\n",
    "model.add(Conv2D(32, (3, 3), activation='relu'))\n",
    "model.add(MaxPooling2D(pool_size=(2, 2)))\n",
    "model.add(Dropout(0.25))\n",
    "\n",
    "model.add(Flatten())\n",
    "model.add(Dense(128, activation='relu'))\n",
    "model.add(Dropout(0.5))\n",
    "model.add(Dense(17, activation='sigmoid'))\n",
    "\n",
    "model.compile(loss='binary_crossentropy', # We NEED binary here, since categorical_crossentropy l1 norms the output before calculating loss.\n",
    "              optimizer='adam',\n",
    "              metrics=['accuracy'])\n",
    "              \n",
    "model.fit(x_train, y_train,\n",
    "          batch_size=128,\n",
    "          epochs=10,\n",
    "          verbose=1,\n",
    "          validation_data=(x_valid, y_valid))\n",
    "          \n",
    "from sklearn.metrics import fbeta_score\n",
    "\n",
    "p_valid = model.predict(x_valid, batch_size=128)\n",
    "#print(y_valid)\n",
    "#print(p_valid)\n",
    "print(fbeta_score(y_valid, np.array(p_valid) > 0.5, beta=2, average='macro'))"
   ]
  },
  {
   "cell_type": "code",
   "execution_count": null,
   "metadata": {
    "collapsed": true,
    "deletable": true,
    "editable": true
   },
   "outputs": [],
   "source": [
    "X_test = np.array(X_test, np.float16) / 255.\n",
    "preds = model.predict(X_test, batch_size=128)\n"
   ]
  },
  {
   "cell_type": "code",
   "execution_count": null,
   "metadata": {
    "collapsed": false,
    "deletable": true,
    "editable": true
   },
   "outputs": [],
   "source": [
    "# X_test_id, preds -> submission\n",
    "predsText = []\n",
    "for e in preds:\n",
    "    predsText.append(mapf(e))\n",
    "print (predsText[0:5])"
   ]
  },
  {
   "cell_type": "code",
   "execution_count": null,
   "metadata": {
    "collapsed": false,
    "deletable": true,
    "editable": true
   },
   "outputs": [],
   "source": [
    "#image_name,tags\n",
    "#test_0,primary clear agriculture road water\n",
    "\n",
    "subName = path1 + '/SUB_03_32.csv'\n",
    "f = open(subName, 'w')\n",
    "f.write('image_name,tags\\n')\n",
    "for i in range(0,len(predsText)):\n",
    "    f.write(X_test_id[i]+','+predsText[i]+'\\n')\n",
    "f.close()\n"
   ]
  },
  {
   "cell_type": "code",
   "execution_count": null,
   "metadata": {
    "collapsed": false,
    "deletable": true,
    "editable": true
   },
   "outputs": [],
   "source": []
  },
  {
   "cell_type": "code",
   "execution_count": null,
   "metadata": {
    "collapsed": true,
    "deletable": true,
    "editable": true
   },
   "outputs": [],
   "source": []
  }
 ],
 "metadata": {
  "kernelspec": {
   "display_name": "Python 2",
   "language": "python",
   "name": "python2"
  },
  "language_info": {
   "codemirror_mode": {
    "name": "ipython",
    "version": 2
   },
   "file_extension": ".py",
   "mimetype": "text/x-python",
   "name": "python",
   "nbconvert_exporter": "python",
   "pygments_lexer": "ipython2",
   "version": "2.7.12"
  }
 },
 "nbformat": 4,
 "nbformat_minor": 2
}
