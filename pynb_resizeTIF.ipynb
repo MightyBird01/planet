{
 "cells": [
  {
   "cell_type": "code",
   "execution_count": 1,
   "metadata": {
    "collapsed": false,
    "deletable": true,
    "editable": true
   },
   "outputs": [],
   "source": [
    "from skimage import io\n",
    "from skimage import transform\n",
    "import skimage\n",
    "from matplotlib import pyplot as plt\n",
    "import numpy as np\n",
    "import os\n",
    "import glob\n",
    "import cv2\n",
    "\n",
    "%matplotlib inline\n",
    "\n",
    "path1 = '/home/gs/DataScientist/planet'\n",
    "trainPath = '/train-tif'\n",
    "testPath = '/test-tif'\n",
    "targetTrainPath = '/train-tif-64'\n",
    "targetTestPath = '/test-tif-64'\n",
    "\n",
    "PIC_SIZE = 64\n",
    "VERBOSE_INTERVAL = 5000\n"
   ]
  },
  {
   "cell_type": "code",
   "execution_count": 2,
   "metadata": {
    "collapsed": false,
    "deletable": true,
    "editable": true
   },
   "outputs": [],
   "source": [
    "# definitions\n",
    "\n",
    "def resizeImage (img):\n",
    "    #resize\n",
    "    img2 = skimage.transform.resize(img, (PIC_SIZE, PIC_SIZE), preserve_range=True)\n",
    "    #img2 = cv2.resize(img.astype('float'), (PIC_SIZE, PIC_SIZE), interpolation=cv2.INTER_LINEAR)\n",
    "    #img2 = cv2.resize(img, (PIC_SIZE, PIC_SIZE), interpolation=cv2.INTER_CUBIC)\n",
    "    return (img2)"
   ]
  },
  {
   "cell_type": "code",
   "execution_count": null,
   "metadata": {
    "collapsed": false,
    "deletable": true,
    "editable": true
   },
   "outputs": [],
   "source": [
    "\n",
    "# read train images\n",
    "\n",
    "lines = 0\n",
    "\n",
    "print('Resize train images')\n",
    "path = os.path.join(path1+trainPath, '*.tif')\n",
    "print (path)\n",
    "files = glob.glob(path)\n",
    "for fl in files:\n",
    "    lines += 1\n",
    "    if lines % VERBOSE_INTERVAL == 0:\n",
    "        print ('  files read: {}'.format(lines))\n",
    "    flbase = os.path.basename(fl)\n",
    "    try:\n",
    "        i1 = io.imread(fl)\n",
    "        i1 = resizeImage(i1)\n",
    "    except:\n",
    "        print ('exception handling file {}'.format(fl))\n",
    "        i1 = np.zeros(64*64*4)\n",
    "        i1 = np.resize(i1, (64, 64, 4))\n",
    "    name = path1+targetTrainPath+'/'+flbase\n",
    "    io.imsave(name, i1)\n",
    "\n",
    "\n",
    "\n",
    "\n",
    "\n",
    "\n",
    "\n"
   ]
  },
  {
   "cell_type": "code",
   "execution_count": 3,
   "metadata": {
    "collapsed": false
   },
   "outputs": [
    {
     "name": "stdout",
     "output_type": "stream",
     "text": [
      "Resize test images\n",
      "/home/gs/DataScientist/planet/test-tif/*.tif\n"
     ]
    },
    {
     "name": "stderr",
     "output_type": "stream",
     "text": [
      "/usr/local/lib/python2.7/dist-packages/skimage/transform/_warps.py:84: UserWarning: The default mode, 'constant', will be changed to 'reflect' in skimage 0.15.\n",
      "  warn(\"The default mode, 'constant', will be changed to 'reflect' in \"\n"
     ]
    },
    {
     "name": "stdout",
     "output_type": "stream",
     "text": [
      "  files read: 5000\n",
      "  files read: 10000\n",
      "  files read: 15000\n",
      "  files read: 20000\n",
      "exception handling file /home/gs/DataScientist/planet/test-tif/test_17393.tif\n"
     ]
    },
    {
     "name": "stderr",
     "output_type": "stream",
     "text": [
      "/usr/local/lib/python2.7/dist-packages/skimage/io/_io.py:132: UserWarning: /home/gs/DataScientist/planet/test-tif-64/test_17393.tif is a low contrast image\n",
      "  warn('%s is a low contrast image' % fname)\n",
      "/usr/local/lib/python2.7/dist-packages/skimage/external/tifffile/tifffile.py:2546: UserWarning: unpack: string size must be a multiple of element size\n",
      "  warnings.warn(\"unpack: %s\" % e)\n"
     ]
    },
    {
     "name": "stdout",
     "output_type": "stream",
     "text": [
      "  files read: 25000\n",
      "  files read: 30000\n",
      "  files read: 35000\n",
      "  files read: 40000\n"
     ]
    }
   ],
   "source": [
    "# read test images\n",
    "\n",
    "lines = 0\n",
    "\n",
    "print('Resize test images')\n",
    "path = os.path.join(path1+testPath, '*.tif')\n",
    "print (path)\n",
    "files = glob.glob(path)\n",
    "for fl in files:\n",
    "    lines += 1\n",
    "    if lines % VERBOSE_INTERVAL == 0:\n",
    "        print ('  files read: {}'.format(lines))\n",
    "    flbase = os.path.basename(fl)\n",
    "    try:\n",
    "        i1 = io.imread(fl)\n",
    "        i1 = resizeImage(i1)\n",
    "    except:\n",
    "        print ('exception handling file {}'.format(fl))\n",
    "        i1 = np.zeros(64*64*4)\n",
    "        i1 = np.resize(i1, (64, 64, 4))\n",
    "    name = path1+targetTestPath+'/'+flbase\n",
    "    io.imsave(name, i1)"
   ]
  },
  {
   "cell_type": "code",
   "execution_count": null,
   "metadata": {
    "collapsed": true,
    "deletable": true,
    "editable": true
   },
   "outputs": [],
   "source": []
  },
  {
   "cell_type": "code",
   "execution_count": null,
   "metadata": {
    "collapsed": false,
    "deletable": true,
    "editable": true
   },
   "outputs": [],
   "source": [
    "name = 'train_1130.tif'\n",
    "i1 = io.imread('train-tif/'+name) \n",
    "#i1 = cv2.imread(path1+trainPath+'/'+name, cv2.IMREAD_COLOR) \n",
    "i2 = resizeImage(i1)\n",
    "print (i1.shape)\n",
    "print (i2.shape)\n",
    "print (np.mean(i1))\n",
    "print (np.mean(i2))\n",
    "print (np.mean(i1[:,:,0]))\n",
    "print (np.mean(i2[:,:,0]))\n",
    "print (np.mean(i1[:,:,1]))\n",
    "print (np.mean(i2[:,:,1]))\n",
    "print (np.mean(i1[:,:,2]))\n",
    "print (np.mean(i2[:,:,2]))\n",
    "print (np.mean(i1[:,:,3]))\n",
    "print (np.mean(i2[:,:,3]))\n",
    "\n",
    "print (i1[0,0,0])\n",
    "print (i2[0,0,0])\n",
    "\n",
    "\n",
    "io.imsave(path1+targetTrainPath+'/'+name, i2)\n",
    "\n",
    "\n"
   ]
  },
  {
   "cell_type": "code",
   "execution_count": null,
   "metadata": {
    "collapsed": false,
    "deletable": true,
    "editable": true
   },
   "outputs": [],
   "source": [
    "\n",
    "i1 = io.imread(path1+trainPath+'/'+'train_1140.tif')\n",
    "i2 = io.imread(path1+targetTrainPath+'/'+'train_1140.tif')\n",
    "\n",
    "fig, axes = plt.subplots(nrows=2, ncols=4)\n",
    "#                         sharex=True, sharey=True)\n",
    "\n",
    "ax = axes.ravel()\n",
    "\n",
    "ax[0].imshow(i1[:,:,0])\n",
    "ax[0].set_title(\"i1 0\")\n",
    "ax[1].imshow(i1[:,:,1])\n",
    "ax[1].set_title(\"i1 1\")\n",
    "ax[2].imshow(i1[:,:,2])\n",
    "ax[2].set_title(\"i1 2\")\n",
    "ax[3].imshow(i1[:,:,3])\n",
    "ax[3].set_title(\"i1 3\")\n",
    "ax[4].imshow(i2[:,:,0])\n",
    "ax[4].set_title(\"i2 0\")\n",
    "ax[5].imshow(i2[:,:,1])\n",
    "ax[5].set_title(\"i2 1\")\n",
    "ax[6].imshow(i2[:,:,2])\n",
    "ax[6].set_title(\"i2 2\")\n",
    "ax[7].imshow(i2[:,:,3])\n",
    "ax[7].set_title(\"i2 3\")\n",
    "\n",
    "plt.tight_layout()\n",
    "plt.show()"
   ]
  },
  {
   "cell_type": "code",
   "execution_count": null,
   "metadata": {
    "collapsed": false,
    "deletable": true,
    "editable": true
   },
   "outputs": [],
   "source": []
  },
  {
   "cell_type": "code",
   "execution_count": null,
   "metadata": {
    "collapsed": false,
    "deletable": true,
    "editable": true
   },
   "outputs": [],
   "source": []
  },
  {
   "cell_type": "code",
   "execution_count": null,
   "metadata": {
    "collapsed": false,
    "deletable": true,
    "editable": true
   },
   "outputs": [],
   "source": []
  },
  {
   "cell_type": "code",
   "execution_count": null,
   "metadata": {
    "collapsed": false,
    "deletable": true,
    "editable": true
   },
   "outputs": [],
   "source": []
  },
  {
   "cell_type": "code",
   "execution_count": null,
   "metadata": {
    "collapsed": false,
    "deletable": true,
    "editable": true
   },
   "outputs": [],
   "source": []
  },
  {
   "cell_type": "code",
   "execution_count": null,
   "metadata": {
    "collapsed": false,
    "deletable": true,
    "editable": true
   },
   "outputs": [],
   "source": []
  },
  {
   "cell_type": "code",
   "execution_count": null,
   "metadata": {
    "collapsed": false,
    "deletable": true,
    "editable": true
   },
   "outputs": [],
   "source": []
  },
  {
   "cell_type": "code",
   "execution_count": null,
   "metadata": {
    "collapsed": false,
    "deletable": true,
    "editable": true
   },
   "outputs": [],
   "source": []
  },
  {
   "cell_type": "code",
   "execution_count": null,
   "metadata": {
    "collapsed": false,
    "deletable": true,
    "editable": true
   },
   "outputs": [],
   "source": []
  },
  {
   "cell_type": "code",
   "execution_count": null,
   "metadata": {
    "collapsed": false,
    "deletable": true,
    "editable": true
   },
   "outputs": [],
   "source": []
  },
  {
   "cell_type": "code",
   "execution_count": null,
   "metadata": {
    "collapsed": true,
    "deletable": true,
    "editable": true
   },
   "outputs": [],
   "source": []
  },
  {
   "cell_type": "code",
   "execution_count": null,
   "metadata": {
    "collapsed": true,
    "deletable": true,
    "editable": true
   },
   "outputs": [],
   "source": []
  },
  {
   "cell_type": "code",
   "execution_count": null,
   "metadata": {
    "collapsed": true,
    "deletable": true,
    "editable": true
   },
   "outputs": [],
   "source": []
  },
  {
   "cell_type": "code",
   "execution_count": null,
   "metadata": {
    "collapsed": true,
    "deletable": true,
    "editable": true
   },
   "outputs": [],
   "source": []
  },
  {
   "cell_type": "code",
   "execution_count": null,
   "metadata": {
    "collapsed": false,
    "deletable": true,
    "editable": true
   },
   "outputs": [],
   "source": []
  },
  {
   "cell_type": "code",
   "execution_count": null,
   "metadata": {
    "collapsed": true,
    "deletable": true,
    "editable": true
   },
   "outputs": [],
   "source": []
  },
  {
   "cell_type": "code",
   "execution_count": null,
   "metadata": {
    "collapsed": false,
    "deletable": true,
    "editable": true
   },
   "outputs": [],
   "source": []
  }
 ],
 "metadata": {
  "kernelspec": {
   "display_name": "Python 2",
   "language": "python",
   "name": "python2"
  },
  "language_info": {
   "codemirror_mode": {
    "name": "ipython",
    "version": 2
   },
   "file_extension": ".py",
   "mimetype": "text/x-python",
   "name": "python",
   "nbconvert_exporter": "python",
   "pygments_lexer": "ipython2",
   "version": "2.7.12"
  }
 },
 "nbformat": 4,
 "nbformat_minor": 2
}
