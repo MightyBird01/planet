{
 "cells": [
  {
   "cell_type": "code",
   "execution_count": null,
   "metadata": {
    "collapsed": false,
    "deletable": true,
    "editable": true
   },
   "outputs": [],
   "source": [
    "from skimage import io\n",
    "from matplotlib import pyplot as plt\n",
    "import numpy as np\n",
    "import pandas as pd\n",
    "import os\n",
    "import glob\n",
    "import xgboost as xgb\n",
    "from sklearn import model_selection, preprocessing, ensemble\n",
    "from sklearn.metrics import log_loss\n",
    "from scipy import stats\n",
    "\n",
    "%matplotlib inline\n",
    "\n",
    "path1 = '/home/gs/DataScientist/planet'\n",
    "trainPath = '/train-tif'\n",
    "testPath = '/test-tif'\n",
    "\n",
    "VERBOSE_INTERVAL = 5000\n",
    "\n",
    "NUM_BINS = 64\n",
    "MAX_PIX_VAL = 65535\n"
   ]
  },
  {
   "cell_type": "code",
   "execution_count": null,
   "metadata": {
    "collapsed": false,
    "deletable": true,
    "editable": true
   },
   "outputs": [],
   "source": [
    "# definitions\n",
    "\n",
    "def getImageData (filePath):\n",
    "    stats = []\n",
    "    try:\n",
    "        img = io.imread(filePath)\n",
    "        r, g, b, nir = img[:, :, 0], img[:, :, 1], img[:, :, 2], img[:, :, 3]\n",
    "        n = (nir-r) / (nir+r)\n",
    "        hr, bins = np.histogram(r,NUM_BINS,[0, MAX_PIX_VAL])\n",
    "        hg, bins = np.histogram(g,NUM_BINS,[0, MAX_PIX_VAL])\n",
    "        hb, bins = np.histogram(b,NUM_BINS,[0, MAX_PIX_VAL])\n",
    "        hnir, bins = np.histogram(nir,NUM_BINS,[0, MAX_PIX_VAL])\n",
    "        ndvi, bins = np.histogram(nir,NUM_BINS,[-1, +1])\n",
    "\n",
    "        # stats\n",
    "        stats.append( np.mean(r) )\n",
    "        stats.append( np.mean(g) )\n",
    "        stats.append( np.mean(b) )\n",
    "        stats.append( np.mean(nir) )\n",
    "        stats.append( np.std(r) )\n",
    "        stats.append( np.std(g) )\n",
    "        stats.append( np.std(b) )\n",
    "        stats.append( np.std(nir) )\n",
    "        stats.append( np.min(r) )\n",
    "        stats.append( np.min(g) )\n",
    "        stats.append( np.min(b) )\n",
    "        stats.append( np.min(nir) )\n",
    "        stats.append( np.max(r) )\n",
    "        stats.append( np.max(g) )\n",
    "        stats.append( np.max(b) )\n",
    "        stats.append( np.max(nir) )\n",
    "\n",
    "        stats.append( scipy.stats.kurtosis(r.ravel()) )\n",
    "        stats.append( scipy.stats.kurtosis(g.ravel()) )\n",
    "        stats.append( scipy.stats.kurtosis(b.ravel()) )\n",
    "        stats.append( scipy.stats.kurtosis(nir.ravel()) )\n",
    "        stats.append( scipy.stats.skew(r.ravel()) )\n",
    "        stats.append( scipy.stats.skew(g.ravel()) )\n",
    "        stats.append( scipy.stats.skew(b.ravel()) )\n",
    "        stats.append( scipy.stats.skew(nir.ravel()) )\n",
    "        \n",
    "        # to array\n",
    "        stats = np.array(stats)\n",
    "        \n",
    "    except:\n",
    "        print ('  error reading file {}'.format(filePath))\n",
    "        hr = np.zeros(NUM_BINS)\n",
    "        hg = np.zeros(NUM_BINS)\n",
    "        hb = np.zeros(NUM_BINS)\n",
    "        hnir = np.zeros(NUM_BINS)\n",
    "        ndvi = np.zeros(NUM_BINS)\n",
    "        stats = np.zeros(24)\n",
    "\n",
    "    r = np.concatenate((hr, hg, hb, hnir, ndvi, stats), axis = 0)\n",
    "    return r\n",
    "\n",
    "def runXGB(train_X, train_y, test_X, test_y=None, feature_names=None, seed_val=0, num_rounds=2000):\n",
    "    br = 0\n",
    "    param = {}\n",
    "    param['objective'] = 'binary:logistic'\n",
    "    param['eta'] = 0.05\n",
    "    param['max_depth'] = 8\n",
    "    param['silent'] = 1\n",
    "    param['eval_metric'] = \"logloss\"\n",
    "    param['min_child_weight'] = 1\n",
    "    param['subsample'] = 0.8\n",
    "    param['colsample_bytree'] = 0.8\n",
    "    param['seed'] = seed_val\n",
    "    num_rounds = num_rounds\n",
    "\n",
    "    plst = list(param.items())\n",
    "    xgtrain = xgb.DMatrix(train_X, label=train_y)\n",
    "\n",
    "    if test_y is not None:\n",
    "        xgtest = xgb.DMatrix(test_X, label=test_y)\n",
    "        watchlist = [ (xgtrain,'train'), (xgtest, 'test') ]\n",
    "        model = xgb.train(plst, xgtrain, num_rounds, watchlist, early_stopping_rounds=20, verbose_eval = 50)\n",
    "        br = model.best_iteration\n",
    "        #print ('best iteration for DICT: {}'.format(br))\n",
    "    else:\n",
    "        xgtest = xgb.DMatrix(test_X)\n",
    "        model = xgb.train(plst, xgtrain, num_rounds, verbose_eval = 50)\n",
    "\n",
    "    pred_test_y = model.predict(xgtest)\n",
    "    return pred_test_y, model, br\n",
    "\n"
   ]
  },
  {
   "cell_type": "code",
   "execution_count": null,
   "metadata": {
    "collapsed": false,
    "deletable": true,
    "editable": true
   },
   "outputs": [],
   "source": [
    "# read Y_train\n",
    "\n",
    "print ('read train y...')\n",
    "\n",
    "try:\n",
    "    Y_train = pd.read_csv(path1+'/train.csv')\n",
    "except:\n",
    "    path1 = '/home/ec2-user/DataScientist/planet'\n",
    "    Y_train = pd.read_csv(path1+'/train.csv')\n",
    "\n",
    "print ('Y_train lines read: {}'.format(len(Y_train)))\n",
    "\n",
    "flatten = lambda l: [item for sublist in l for item in sublist]\n",
    "labels = list(set(flatten([l.split(' ') for l in Y_train['tags'].values])))\n",
    "label_map = {l: i for i, l in enumerate(labels)}\n",
    "inv_label_map = {i: l for l, i in label_map.items()}\n",
    "#print(label_map)\n",
    "#print\n",
    "#print(inv_label_map)\n",
    "\n",
    "Y_trainDict = {}\n",
    "for i, row in Y_train.iterrows():\n",
    "    name = row['image_name']\n",
    "    tags = row['tags']\n",
    "    targets = np.zeros(17)\n",
    "    for t in tags.split(' '):\n",
    "        targets[label_map[t]] = 1 \n",
    "    Y_trainDict[name] = targets\n",
    "\n",
    "#print (Y_trainDict['train_0'])\n",
    "#print (Y_trainDict['train_1'])\n",
    "#print (Y_trainDict['train_2'])\n",
    "\n",
    "\n",
    "# read train images\n",
    "\n",
    "X_train = [] # arrays\n",
    "\n",
    "Y_trainAll = []\n",
    "X_train_id = []\n",
    "lines = 0\n",
    "\n",
    "print('Read train images')\n",
    "path = os.path.join(path1+trainPath, '*.tif')\n",
    "print (path)\n",
    "files = glob.glob(path)\n",
    "for fl in files:\n",
    "    lines += 1\n",
    "    if lines % VERBOSE_INTERVAL == 0:\n",
    "        print ('  files read: {}'.format(lines))\n",
    "    flbase = os.path.basename(fl)\n",
    "    r = getImageData(fl)\n",
    "    X_train.append(r)\n",
    "    name = flbase.replace('.tif', '')\n",
    "    X_train_id.append(name)\n",
    "    Y_trainAll.append(Y_trainDict[name])\n",
    "\n",
    "\n",
    "Y_trainAll = pd.DataFrame(Y_trainAll)\n",
    "\n",
    "X_train = pd.DataFrame(X_train)\n",
    "print ('X_train shape   : {}'.format(X_train.shape))\n",
    "print ('Y_trainAll shape: {}'.format(Y_trainAll.shape))\n",
    "\n",
    "\n",
    "X_test = [] # arrays\n",
    "X_test_id = []\n",
    "lines = 0 \n",
    "\n",
    "print('Read test images')\n",
    "path = os.path.join(path1+testPath, '*.tif')\n",
    "print (path)\n",
    "files = glob.glob(path)\n",
    "for fl in files:\n",
    "    lines += 1\n",
    "    if lines % VERBOSE_INTERVAL == 0:\n",
    "        print ('  files read: {}'.format(lines))\n",
    "    flbase = os.path.basename(fl)\n",
    "    r = getImageData(fl)\n",
    "    X_test.append(r)\n",
    "    name = flbase.replace('.tif', '')\n",
    "    X_test_id.append(name)\n",
    "\n",
    "X_test = pd.DataFrame(X_test)\n",
    "print (X_test.shape)\n",
    "\n"
   ]
  },
  {
   "cell_type": "code",
   "execution_count": null,
   "metadata": {
    "collapsed": false,
    "deletable": true,
    "editable": true
   },
   "outputs": [],
   "source": [
    "\n",
    "# save data frames of histograms for later use\n"
   ]
  },
  {
   "cell_type": "code",
   "execution_count": null,
   "metadata": {
    "collapsed": false,
    "deletable": true,
    "editable": true
   },
   "outputs": [],
   "source": []
  },
  {
   "cell_type": "code",
   "execution_count": null,
   "metadata": {
    "collapsed": false,
    "deletable": true,
    "editable": true
   },
   "outputs": [],
   "source": []
  },
  {
   "cell_type": "code",
   "execution_count": null,
   "metadata": {
    "collapsed": false,
    "deletable": true,
    "editable": true
   },
   "outputs": [],
   "source": []
  },
  {
   "cell_type": "code",
   "execution_count": null,
   "metadata": {
    "collapsed": false,
    "deletable": true,
    "editable": true
   },
   "outputs": [],
   "source": [
    "\n",
    "# xgb cross validation\n",
    "\n",
    "# save number of rounds!\n",
    "brDict = {}\n",
    "\n",
    "for i in range(0,17):\n",
    "    print ('target: {} {}'.format(i, inv_label_map[i]))\n",
    "    Y_train = Y_trainAll.ix[:,i]\n",
    "\n",
    "    kf = model_selection.KFold(n_splits=3, shuffle=True, random_state=2016)\n",
    "    for dev_index, val_index in kf.split(range(X_train.shape[0])):\n",
    "        dev_X, val_X = X_train.iloc[dev_index], X_train.iloc[val_index]\n",
    "        dev_y, val_y = Y_train.iloc[dev_index], Y_train.iloc[val_index]\n",
    "        preds, model, br = runXGB(dev_X, dev_y, val_X, val_y)\n",
    "        brDict[i] = br\n",
    "\n",
    "print ('bestRounds:')\n",
    "print (brDict)"
   ]
  },
  {
   "cell_type": "code",
   "execution_count": null,
   "metadata": {
    "collapsed": false,
    "deletable": true,
    "editable": true
   },
   "outputs": [],
   "source": [
    "# xgboost predict\n",
    "\n",
    "\n",
    "\n",
    "\n",
    "predsDF = pd.DataFrame()\n",
    "for i in range(0,17):\n",
    "    print ('predicting feature ' + str(i))\n",
    "    Y_train = Y_trainAll.ix[:,i]\n",
    "    #print (Y_train.shape)\n",
    "    preds, model, br = runXGB(X_train, Y_train, X_test, num_rounds=int(brDict[i]*1.33))\n",
    "    predsDF[i] = preds\n",
    "\n",
    "print (predsDF.shape)"
   ]
  },
  {
   "cell_type": "code",
   "execution_count": null,
   "metadata": {
    "collapsed": false,
    "deletable": true,
    "editable": true
   },
   "outputs": [],
   "source": [
    "print (predsDF.head())\n",
    "print (X_train_id[0:5])"
   ]
  },
  {
   "cell_type": "code",
   "execution_count": null,
   "metadata": {
    "collapsed": false,
    "deletable": true,
    "editable": true
   },
   "outputs": [],
   "source": [
    "# predsDF to prediction file\n",
    "\n",
    "def mapf (arr):\n",
    "    res = ''\n",
    "    for i in range(0,17):\n",
    "        if arr[i] > 0.5:\n",
    "            res += inv_label_map[i] + ' '\n",
    "    res = res.rstrip()\n",
    "    return res\n",
    "\n",
    "print(predsDF.shape)\n",
    "\n",
    "textResults = []\n",
    "\n",
    "for i, row in predsDF.iterrows():\n",
    "    #print (i)\n",
    "    #print (list(row))\n",
    "    textResults.append ( mapf( list (row)))\n",
    "    \n",
    "print (textResults[0:5])\n",
    "\n",
    "res = pd.DataFrame()\n",
    "res['image_name'] = X_test_id\n",
    "res['tags'] = textResults\n",
    "\n",
    "print (res.head())\n",
    "\n",
    "res.to_csv('SUB_23.csv', index=False)\n",
    "\n",
    "\n"
   ]
  },
  {
   "cell_type": "code",
   "execution_count": null,
   "metadata": {
    "collapsed": true,
    "deletable": true,
    "editable": true
   },
   "outputs": [],
   "source": []
  },
  {
   "cell_type": "code",
   "execution_count": null,
   "metadata": {
    "collapsed": true,
    "deletable": true,
    "editable": true
   },
   "outputs": [],
   "source": []
  },
  {
   "cell_type": "code",
   "execution_count": null,
   "metadata": {
    "collapsed": true,
    "deletable": true,
    "editable": true
   },
   "outputs": [],
   "source": []
  },
  {
   "cell_type": "code",
   "execution_count": null,
   "metadata": {
    "collapsed": true,
    "deletable": true,
    "editable": true
   },
   "outputs": [],
   "source": []
  },
  {
   "cell_type": "code",
   "execution_count": null,
   "metadata": {
    "collapsed": false,
    "deletable": true,
    "editable": true
   },
   "outputs": [],
   "source": []
  },
  {
   "cell_type": "code",
   "execution_count": null,
   "metadata": {
    "collapsed": true,
    "deletable": true,
    "editable": true
   },
   "outputs": [],
   "source": []
  },
  {
   "cell_type": "code",
   "execution_count": null,
   "metadata": {
    "collapsed": false,
    "deletable": true,
    "editable": true
   },
   "outputs": [],
   "source": []
  }
 ],
 "metadata": {
  "kernelspec": {
   "display_name": "Python 2",
   "language": "python",
   "name": "python2"
  },
  "language_info": {
   "codemirror_mode": {
    "name": "ipython",
    "version": 2
   },
   "file_extension": ".py",
   "mimetype": "text/x-python",
   "name": "python",
   "nbconvert_exporter": "python",
   "pygments_lexer": "ipython2",
   "version": "2.7.12"
  }
 },
 "nbformat": 4,
 "nbformat_minor": 2
}
