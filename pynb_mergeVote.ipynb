{
 "cells": [
  {
   "cell_type": "code",
   "execution_count": 1,
   "metadata": {
    "collapsed": false,
    "deletable": true,
    "editable": true
   },
   "outputs": [
    {
     "name": "stdout",
     "output_type": "stream",
     "text": [
      "SUB_02_64_35000_10ep.csv\n",
      "(40669, 2)\n",
      "SUB_PUB_submission_bag_of_colors_0.819.csv\n",
      "(40669, 2)\n",
      "SUB_PUB_sub_0.8527_XGB_histograms.csv\n",
      "(40669, 2)\n",
      "SUB_24_0.8813_0.01eta_0.2.csv\n",
      "(40669, 2)\n"
     ]
    }
   ],
   "source": [
    "import pandas as pd\n",
    "\n",
    "# merge submission files\n",
    "\n",
    "file1 = 'SUB_02_64_35000_10ep.csv'\n",
    "file2 = 'SUB_PUB_submission_bag_of_colors_0.819.csv'\n",
    "file3 = 'SUB_PUB_sub_0.8527_XGB_histograms.csv'\n",
    "file4 = 'SUB_24_0.8813_0.01eta_0.2.csv'\n",
    "\n",
    "listFiles = [file1, file2, file3, file4]\n",
    "\n",
    "THRESHOLD = 2\n",
    "\n",
    "totalDict = {}\n",
    "\n",
    "for f in listFiles:\n",
    "    print (f)\n",
    "    df = pd.read_csv(f)\n",
    "    print (df.shape)\n",
    "    for i, row in df.iterrows():\n",
    "        tags = str(row['tags'])\n",
    "        if len(str(tags)) > 0:\n",
    "            tagList = tags.split()\n",
    "            #print (tagList)\n",
    "            #print (type(tags))\n",
    "            id = row['image_name']\n",
    "            for t in tagList:\n",
    "                if not id in totalDict:\n",
    "                    totalDict[id] = {}\n",
    "                if t in totalDict[id]:\n",
    "                    totalDict[id][t] += 1\n",
    "                else:\n",
    "                    totalDict[id][t] = 1\n",
    "\n",
    "                \n",
    "                "
   ]
  },
  {
   "cell_type": "code",
   "execution_count": 2,
   "metadata": {
    "collapsed": false,
    "deletable": true,
    "editable": true
   },
   "outputs": [
    {
     "name": "stdout",
     "output_type": "stream",
     "text": [
      "{'clear': 4, 'primary': 4}\n"
     ]
    }
   ],
   "source": [
    "print (totalDict['test_2265'])"
   ]
  },
  {
   "cell_type": "code",
   "execution_count": 3,
   "metadata": {
    "collapsed": true,
    "deletable": true,
    "editable": true
   },
   "outputs": [],
   "source": [
    "f = open('SUB_MERGE_03.csv', 'w')\n",
    "f.write('image_name,tags\\n')\n",
    "for name in totalDict:\n",
    "    f.write(name+',')\n",
    "    tagString = ''\n",
    "    for t in totalDict[name]:\n",
    "        if totalDict[name][t] >= THRESHOLD:\n",
    "            tagString = tagString + t + ' '\n",
    "    tagString.rstrip()\n",
    "    f.write(tagString)\n",
    "    f.write('\\n')\n",
    "f.close()"
   ]
  },
  {
   "cell_type": "code",
   "execution_count": null,
   "metadata": {
    "collapsed": true,
    "deletable": true,
    "editable": true
   },
   "outputs": [],
   "source": []
  },
  {
   "cell_type": "code",
   "execution_count": null,
   "metadata": {
    "collapsed": true,
    "deletable": true,
    "editable": true
   },
   "outputs": [],
   "source": []
  },
  {
   "cell_type": "code",
   "execution_count": null,
   "metadata": {
    "collapsed": true,
    "deletable": true,
    "editable": true
   },
   "outputs": [],
   "source": []
  }
 ],
 "metadata": {
  "kernelspec": {
   "display_name": "Python 2",
   "language": "python",
   "name": "python2"
  },
  "language_info": {
   "codemirror_mode": {
    "name": "ipython",
    "version": 2
   },
   "file_extension": ".py",
   "mimetype": "text/x-python",
   "name": "python",
   "nbconvert_exporter": "python",
   "pygments_lexer": "ipython2",
   "version": "2.7.12"
  }
 },
 "nbformat": 4,
 "nbformat_minor": 2
}
