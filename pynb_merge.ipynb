{
 "cells": [
  {
   "cell_type": "code",
   "execution_count": 1,
   "metadata": {
    "collapsed": false
   },
   "outputs": [
    {
     "name": "stdout",
     "output_type": "stream",
     "text": [
      "{0: 'slash_burn', 1: 'clear', 2: 'blooming', 3: 'primary', 4: 'cloudy', 5: 'conventional_mine', 6: 'water', 7: 'haze', 8: 'cultivation', 9: 'partly_cloudy', 10: 'artisinal_mine', 11: 'habitation', 12: 'bare_ground', 13: 'blow_down', 14: 'agriculture', 15: 'road', 16: 'selective_logging'}\n"
     ]
    }
   ],
   "source": [
    "import numpy as np\n",
    "import pandas as pd\n",
    "\n",
    "\n",
    "inv_label_map = {0: 'slash_burn', 1: 'clear', 2: 'blooming', 3: 'primary', 4: 'cloudy', 5: 'conventional_mine', 6: 'water', 7: 'haze', 8: 'cultivation', 9: 'partly_cloudy', 10: 'artisinal_mine', 11: 'habitation', 12: 'bare_ground', 13: 'blow_down', 14: 'agriculture', 15: 'road', 16: 'selective_logging'}\n",
    "print (inv_label_map)\n",
    "\n",
    "\n",
    "file1 = 'RAW_03_64px_25ep.csv'\n",
    "file2 = 'RAW_24_0.01.csv'\n",
    "\n",
    "\n",
    "# merge 01\n",
    "#file1 = 'RAW_03_64px_25ep.csv'\n",
    "#file2 = 'RAW_24_0.01.csv'\n",
    "# 0.18 .89218\n",
    "# 0.20 .89344 BEST\n",
    "# 0.22 .89339"
   ]
  },
  {
   "cell_type": "code",
   "execution_count": 2,
   "metadata": {
    "collapsed": false
   },
   "outputs": [
    {
     "name": "stdout",
     "output_type": "stream",
     "text": [
      "                  0             1             2         3             4  \\\n",
      "27502  2.661361e-04  9.977647e-01  1.849647e-02  0.999995  8.904292e-06   \n",
      "31811  4.079269e-05  9.976846e-01  7.172192e-03  1.000000  1.336898e-08   \n",
      "34466  3.887569e-08  4.693544e-08  4.283597e-09  1.000000  1.108634e-07   \n",
      "23727  5.823143e-05  9.989910e-01  2.324604e-07  0.999999  1.818716e-08   \n",
      "36858  2.098034e-02  9.904958e-01  2.518564e-03  0.999854  1.886354e-05   \n",
      "\n",
      "                  5         6             7         8         9            10  \\\n",
      "27502  4.564355e-06  0.037800  9.983971e-04  0.007132  0.000857  1.821369e-06   \n",
      "31811  1.397025e-08  0.015919  9.638769e-06  0.002177  0.000597  2.708856e-08   \n",
      "34466  1.109293e-12  0.019395  7.355921e-09  0.001770  0.998773  1.186769e-10   \n",
      "23727  5.202115e-06  0.711288  1.879223e-04  0.178283  0.000017  7.213751e-04   \n",
      "36858  2.051446e-04  0.369616  3.971527e-03  0.316875  0.001394  6.967895e-04   \n",
      "\n",
      "             11        12            13        14        15            16  \\\n",
      "27502  0.001505  0.000698  1.654685e-03  0.016066  0.008818  2.462650e-03   \n",
      "31811  0.000312  0.000066  2.869247e-04  0.003200  0.001971  8.739154e-04   \n",
      "34466  0.000089  0.000002  8.891285e-08  0.003876  0.002097  3.924874e-08   \n",
      "23727  0.269152  0.011312  4.555712e-08  0.509207  0.569407  3.001398e-04   \n",
      "36858  0.094400  0.051489  1.922307e-03  0.597228  0.187886  4.802227e-03   \n",
      "\n",
      "              id  \n",
      "27502     test_0  \n",
      "31811     test_1  \n",
      "34466    test_10  \n",
      "23727   test_100  \n",
      "36858  test_1000  \n",
      "              0         1         2         3         4         5         6  \\\n",
      "9458   0.001265  0.948250  0.002440  0.992549  0.002255  0.000125  0.014917   \n",
      "3239   0.000374  0.998027  0.049905  0.999849  0.000109  0.000044  0.007381   \n",
      "26076  0.002352  0.049538  0.000467  0.997969  0.001186  0.000997  0.164699   \n",
      "1467   0.000945  0.894624  0.001543  0.999776  0.000161  0.001397  0.160635   \n",
      "33658  0.000325  0.982275  0.043435  0.999342  0.000540  0.000058  0.016154   \n",
      "\n",
      "              7         8         9        10        11        12        13  \\\n",
      "9458   0.021418  0.082755  0.013916  0.000263  0.010260  0.031765  0.009519   \n",
      "3239   0.000209  0.011503  0.002013  0.000019  0.007102  0.001152  0.008288   \n",
      "26076  0.001359  0.065599  0.958597  0.000667  0.024986  0.021218  0.004098   \n",
      "1467   0.000317  0.110647  0.100129  0.000508  0.238269  0.019756  0.001818   \n",
      "33658  0.016102  0.020574  0.001513  0.000033  0.002867  0.001197  0.000294   \n",
      "\n",
      "             14        15        16         id  \n",
      "9458   0.006340  0.011171  0.005426     test_0  \n",
      "3239   0.007441  0.008989  0.006550     test_1  \n",
      "26076  0.166436  0.086142  0.002623    test_10  \n",
      "1467   0.447188  0.696275  0.015059   test_100  \n",
      "33658  0.057102  0.023115  0.000930  test_1000  \n",
      "27502       test_0\n",
      "31811       test_1\n",
      "34466      test_10\n",
      "23727     test_100\n",
      "36858    test_1000\n",
      "Name: id, dtype: object\n"
     ]
    }
   ],
   "source": [
    "df1 = pd.read_csv(file1)\n",
    "df2 = pd.read_csv(file2)\n",
    "#print (df1.head())\n",
    "#print (df2.head())\n",
    "\n",
    "\n",
    "# sort\n",
    "\n",
    "df1 = df1.sort_values(by='id', ascending=1)\n",
    "df2 = df2.sort_values(by='id', ascending=1)\n",
    "\n",
    "print (df1.head())\n",
    "print (df2.head())\n",
    "\n",
    "\n",
    "X_test_id = df1['id']\n",
    "print (X_test_id[0:5])\n"
   ]
  },
  {
   "cell_type": "code",
   "execution_count": 3,
   "metadata": {
    "collapsed": false
   },
   "outputs": [
    {
     "name": "stdout",
     "output_type": "stream",
     "text": [
      "[[  7.65530509e-04   9.73007560e-01   1.04680554e-02 ...,   1.12031433e-02\n",
      "    9.99445096e-03   3.94455972e-03]\n",
      " [  2.07155943e-04   9.97855872e-01   2.85387849e-02 ...,   5.32072224e-03\n",
      "    5.47984871e-03   3.71181569e-03]\n",
      " [  1.17592862e-03   2.47688957e-02   2.33284593e-04 ...,   8.51560369e-02\n",
      "    4.41194136e-02   1.31134370e-03]\n",
      " ..., \n",
      " [  6.98695309e-03   1.39363123e-01   2.21384707e-03 ...,   2.29650661e-01\n",
      "    3.52532873e-02   3.33046261e-03]\n",
      " [  1.32237502e-04   9.98481512e-01   4.84305681e-03 ...,   3.77131556e-03\n",
      "    2.89553750e-03   2.82733541e-04]\n",
      " [  1.86246764e-04   5.65734198e-02   1.39713891e-04 ...,   1.29023941e-02\n",
      "    9.85242287e-03   1.04659886e-04]]\n"
     ]
    }
   ],
   "source": [
    "# predsDF\n",
    "del df1['id']\n",
    "del df2['id']\n",
    "a1 = np.array(df1)\n",
    "a2 = np.array(df2)\n",
    "\n",
    "r = a1 * 0.5 + a2 * 0.5\n",
    "\n",
    "print (r)\n",
    "predsDF = pd.DataFrame(r)"
   ]
  },
  {
   "cell_type": "code",
   "execution_count": null,
   "metadata": {
    "collapsed": true
   },
   "outputs": [],
   "source": []
  },
  {
   "cell_type": "code",
   "execution_count": 4,
   "metadata": {
    "collapsed": false
   },
   "outputs": [
    {
     "name": "stdout",
     "output_type": "stream",
     "text": [
      "(40669, 17)\n",
      "['clear primary', 'clear primary', 'primary partly_cloudy', 'clear primary water habitation agriculture road', 'clear primary agriculture']\n",
      "      image_name                                             tags\n",
      "27502     test_0                                    clear primary\n",
      "31811     test_1                                    clear primary\n",
      "34466    test_10                            primary partly_cloudy\n",
      "23727   test_100  clear primary water habitation agriculture road\n",
      "36858  test_1000                        clear primary agriculture\n"
     ]
    }
   ],
   "source": [
    "# predsDF to prediction file\n",
    "def mapf (arr):\n",
    "    res = ''\n",
    "    for i in range(0,17):\n",
    "        if arr[i] > 0.22:\n",
    "            res += inv_label_map[i] + ' '\n",
    "    res = res.rstrip()\n",
    "    return res\n",
    "\n",
    "print(predsDF.shape)\n",
    "textResults = []\n",
    "for i, row in predsDF.iterrows():\n",
    "    #print (i)\n",
    "    #print (list(row))\n",
    "    textResults.append ( mapf( list (row)))\n",
    "\n",
    "print (textResults[0:5])\n",
    "res = pd.DataFrame()\n",
    "res['image_name'] = X_test_id\n",
    "res['tags'] = textResults\n",
    "print (res.head())\n",
    "res.to_csv('SUB_MERGE_CALC_01_50-50_0.22.csv', index=False)\n",
    " "
   ]
  }
 ],
 "metadata": {
  "kernelspec": {
   "display_name": "Python 2",
   "language": "python",
   "name": "python2"
  },
  "language_info": {
   "codemirror_mode": {
    "name": "ipython",
    "version": 2
   },
   "file_extension": ".py",
   "mimetype": "text/x-python",
   "name": "python",
   "nbconvert_exporter": "python",
   "pygments_lexer": "ipython2",
   "version": "2.7.12"
  }
 },
 "nbformat": 4,
 "nbformat_minor": 2
}
